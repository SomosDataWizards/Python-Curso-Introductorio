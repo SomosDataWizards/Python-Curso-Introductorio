{
  "cells": [
    {
      "cell_type": "markdown",
      "source": [
        "\n",
        "# **Introducción a Python para Análisis de Datos**\n",
        "## Capítulo 7: Business Case - Solución\n",
        "---\n",
        "**Autor:** Juan Martin Bellido  \n",
        "\n",
        "**Descripción**  \n",
        "En este capítulo final pondremos en práctica conceptos adquiridos a lo largo del curso para resolver un caso práctico final. \n",
        "\n",
        "**¿Feedback? ¿comentarios?** Por favor compártelo conmigo escribiéndome por [LinkedIn](https://www.linkedin.com/in/jmartinbellido/)  \n"
      ],
      "metadata": {
        "id": "Nepb2Ib3Qbga"
      }
    },
    {
      "cell_type": "markdown",
      "source": [
        "# Capítulo 7: Caso práctico\n",
        "---"
      ],
      "metadata": {
        "id": "y1o72QRhMkUH"
      }
    },
    {
      "cell_type": "markdown",
      "source": [
        "### Automatización de reporte\n",
        "\n",
        "Como ejercicio final, crearemos un reporte automatizado.\n",
        "\n",
        "* *Seleccionar una empresa que cotice en bolsa*\n",
        "* *Extraer datos de cotizaciones diarias utilizando la API de Yahoo! Finance*\n",
        "* *Construir gráfico de serie temporal que reporte media de cotización semanal para las últimas 8 semanas a fecha actual; reportar también el mismo período para el año anterior*\n",
        "* *Generar un archivo PDF con el gráfico y exportarlo y una carpeta específica con el nombre de la empresa seleccionada*\n"
      ],
      "metadata": {
        "id": "7DgnwW-Fyx7C"
      }
    },
    {
      "cell_type": "code",
      "source": [
        "# importamos librerías\n",
        "import pandas as pd\n",
        "import os\n",
        "from matplotlib import pyplot as plt\n",
        "from datetime import date\n",
        "from datetime import timedelta\n",
        "from fpdf import FPDF\n",
        "import yfinance as yf"
      ],
      "metadata": {
        "id": "tbnYfiL3HuTW"
      },
      "execution_count": null,
      "outputs": []
    },
    {
      "cell_type": "code",
      "source": [
        "%matplotlib inline"
      ],
      "metadata": {
        "id": "-bzEK03pIKW7"
      },
      "execution_count": null,
      "outputs": []
    },
    {
      "cell_type": "code",
      "source": [
        "# set-up\n",
        "input_ticker = 'AMZN'"
      ],
      "metadata": {
        "id": "1RJJzyNm6mOv"
      },
      "execution_count": null,
      "outputs": []
    },
    {
      "cell_type": "code",
      "source": [
        "# creamos nuevo directorio\n",
        "os.mkdir(input_ticker)"
      ],
      "metadata": {
        "id": "DqD3_pdUxJ3m"
      },
      "execution_count": null,
      "outputs": []
    },
    {
      "cell_type": "code",
      "source": [
        "# componentes fecha\n",
        "input_2YA = date.today() + timedelta(days=-365*2) # dos años atrás\n",
        "input_yesterday = date.today() + timedelta(days=-1) # ayer"
      ],
      "metadata": {
        "id": "FBe8BmDn7NBR"
      },
      "execution_count": null,
      "outputs": []
    },
    {
      "cell_type": "code",
      "source": [
        "# extraemos datos\n",
        "data = yf.download(input_ticker, start=input_2YA, end=input_yesterday)\n",
        "data = data.reset_index()\n",
        "data.dtypes"
      ],
      "metadata": {
        "colab": {
          "base_uri": "https://localhost:8080/"
        },
        "id": "xwwT2py_gqvh",
        "outputId": "f5fb553b-d0d5-46de-e97c-ce23dfc5a212"
      },
      "execution_count": null,
      "outputs": [
        {
          "output_type": "stream",
          "name": "stdout",
          "text": [
            "\r[*********************100%***********************]  1 of 1 completed\n"
          ]
        },
        {
          "output_type": "execute_result",
          "data": {
            "text/plain": [
              "Date         datetime64[ns]\n",
              "Open                float64\n",
              "High                float64\n",
              "Low                 float64\n",
              "Close               float64\n",
              "Adj Close           float64\n",
              "Volume                int64\n",
              "dtype: object"
            ]
          },
          "metadata": {},
          "execution_count": 24
        }
      ]
    },
    {
      "cell_type": "code",
      "source": [
        "# creamos campos con componentes de fecha\n",
        "data['year'] = data.Date.dt.year\n",
        "data['week'] = data.Date.dt.isocalendar().week"
      ],
      "metadata": {
        "id": "hW3dzVuogreF"
      },
      "execution_count": null,
      "outputs": []
    },
    {
      "cell_type": "code",
      "source": [
        "# agregamos\n",
        "df = data\\\n",
        "  .groupby(['year','week'])\\\n",
        "  .agg({'Open':'mean'})\\\n",
        "  .reset_index()\\\n",
        "  .rename(columns={'Open':'avg_rate'})"
      ],
      "metadata": {
        "id": "PTgJKBHZaltW"
      },
      "execution_count": null,
      "outputs": []
    },
    {
      "cell_type": "code",
      "source": [
        "# creamos un nuevo campo\n",
        "df['year_1YA'] = df['year'] - 1\n",
        "df.head()"
      ],
      "metadata": {
        "colab": {
          "base_uri": "https://localhost:8080/",
          "height": 206
        },
        "id": "quBrBqHNeDQc",
        "outputId": "22d0cfd5-1ecb-49a3-ba5f-793c4af595d2"
      },
      "execution_count": null,
      "outputs": [
        {
          "output_type": "execute_result",
          "data": {
            "text/plain": [
              "   year  week    avg_rate  year_1YA\n",
              "0  2020    44  158.975502      2019\n",
              "1  2020    45  158.648700      2019\n",
              "2  2020    46  156.697803      2019\n",
              "3  2020    47  156.330701      2019\n",
              "4  2020    48  157.129128      2019"
            ],
            "text/html": [
              "\n",
              "  <div id=\"df-6435fbf8-f162-4d06-82f8-5104299b9f72\">\n",
              "    <div class=\"colab-df-container\">\n",
              "      <div>\n",
              "<style scoped>\n",
              "    .dataframe tbody tr th:only-of-type {\n",
              "        vertical-align: middle;\n",
              "    }\n",
              "\n",
              "    .dataframe tbody tr th {\n",
              "        vertical-align: top;\n",
              "    }\n",
              "\n",
              "    .dataframe thead th {\n",
              "        text-align: right;\n",
              "    }\n",
              "</style>\n",
              "<table border=\"1\" class=\"dataframe\">\n",
              "  <thead>\n",
              "    <tr style=\"text-align: right;\">\n",
              "      <th></th>\n",
              "      <th>year</th>\n",
              "      <th>week</th>\n",
              "      <th>avg_rate</th>\n",
              "      <th>year_1YA</th>\n",
              "    </tr>\n",
              "  </thead>\n",
              "  <tbody>\n",
              "    <tr>\n",
              "      <th>0</th>\n",
              "      <td>2020</td>\n",
              "      <td>44</td>\n",
              "      <td>158.975502</td>\n",
              "      <td>2019</td>\n",
              "    </tr>\n",
              "    <tr>\n",
              "      <th>1</th>\n",
              "      <td>2020</td>\n",
              "      <td>45</td>\n",
              "      <td>158.648700</td>\n",
              "      <td>2019</td>\n",
              "    </tr>\n",
              "    <tr>\n",
              "      <th>2</th>\n",
              "      <td>2020</td>\n",
              "      <td>46</td>\n",
              "      <td>156.697803</td>\n",
              "      <td>2019</td>\n",
              "    </tr>\n",
              "    <tr>\n",
              "      <th>3</th>\n",
              "      <td>2020</td>\n",
              "      <td>47</td>\n",
              "      <td>156.330701</td>\n",
              "      <td>2019</td>\n",
              "    </tr>\n",
              "    <tr>\n",
              "      <th>4</th>\n",
              "      <td>2020</td>\n",
              "      <td>48</td>\n",
              "      <td>157.129128</td>\n",
              "      <td>2019</td>\n",
              "    </tr>\n",
              "  </tbody>\n",
              "</table>\n",
              "</div>\n",
              "      <button class=\"colab-df-convert\" onclick=\"convertToInteractive('df-6435fbf8-f162-4d06-82f8-5104299b9f72')\"\n",
              "              title=\"Convert this dataframe to an interactive table.\"\n",
              "              style=\"display:none;\">\n",
              "        \n",
              "  <svg xmlns=\"http://www.w3.org/2000/svg\" height=\"24px\"viewBox=\"0 0 24 24\"\n",
              "       width=\"24px\">\n",
              "    <path d=\"M0 0h24v24H0V0z\" fill=\"none\"/>\n",
              "    <path d=\"M18.56 5.44l.94 2.06.94-2.06 2.06-.94-2.06-.94-.94-2.06-.94 2.06-2.06.94zm-11 1L8.5 8.5l.94-2.06 2.06-.94-2.06-.94L8.5 2.5l-.94 2.06-2.06.94zm10 10l.94 2.06.94-2.06 2.06-.94-2.06-.94-.94-2.06-.94 2.06-2.06.94z\"/><path d=\"M17.41 7.96l-1.37-1.37c-.4-.4-.92-.59-1.43-.59-.52 0-1.04.2-1.43.59L10.3 9.45l-7.72 7.72c-.78.78-.78 2.05 0 2.83L4 21.41c.39.39.9.59 1.41.59.51 0 1.02-.2 1.41-.59l7.78-7.78 2.81-2.81c.8-.78.8-2.07 0-2.86zM5.41 20L4 18.59l7.72-7.72 1.47 1.35L5.41 20z\"/>\n",
              "  </svg>\n",
              "      </button>\n",
              "      \n",
              "  <style>\n",
              "    .colab-df-container {\n",
              "      display:flex;\n",
              "      flex-wrap:wrap;\n",
              "      gap: 12px;\n",
              "    }\n",
              "\n",
              "    .colab-df-convert {\n",
              "      background-color: #E8F0FE;\n",
              "      border: none;\n",
              "      border-radius: 50%;\n",
              "      cursor: pointer;\n",
              "      display: none;\n",
              "      fill: #1967D2;\n",
              "      height: 32px;\n",
              "      padding: 0 0 0 0;\n",
              "      width: 32px;\n",
              "    }\n",
              "\n",
              "    .colab-df-convert:hover {\n",
              "      background-color: #E2EBFA;\n",
              "      box-shadow: 0px 1px 2px rgba(60, 64, 67, 0.3), 0px 1px 3px 1px rgba(60, 64, 67, 0.15);\n",
              "      fill: #174EA6;\n",
              "    }\n",
              "\n",
              "    [theme=dark] .colab-df-convert {\n",
              "      background-color: #3B4455;\n",
              "      fill: #D2E3FC;\n",
              "    }\n",
              "\n",
              "    [theme=dark] .colab-df-convert:hover {\n",
              "      background-color: #434B5C;\n",
              "      box-shadow: 0px 1px 3px 1px rgba(0, 0, 0, 0.15);\n",
              "      filter: drop-shadow(0px 1px 2px rgba(0, 0, 0, 0.3));\n",
              "      fill: #FFFFFF;\n",
              "    }\n",
              "  </style>\n",
              "\n",
              "      <script>\n",
              "        const buttonEl =\n",
              "          document.querySelector('#df-6435fbf8-f162-4d06-82f8-5104299b9f72 button.colab-df-convert');\n",
              "        buttonEl.style.display =\n",
              "          google.colab.kernel.accessAllowed ? 'block' : 'none';\n",
              "\n",
              "        async function convertToInteractive(key) {\n",
              "          const element = document.querySelector('#df-6435fbf8-f162-4d06-82f8-5104299b9f72');\n",
              "          const dataTable =\n",
              "            await google.colab.kernel.invokeFunction('convertToInteractive',\n",
              "                                                     [key], {});\n",
              "          if (!dataTable) return;\n",
              "\n",
              "          const docLinkHtml = 'Like what you see? Visit the ' +\n",
              "            '<a target=\"_blank\" href=https://colab.research.google.com/notebooks/data_table.ipynb>data table notebook</a>'\n",
              "            + ' to learn more about interactive tables.';\n",
              "          element.innerHTML = '';\n",
              "          dataTable['output_type'] = 'display_data';\n",
              "          await google.colab.output.renderOutput(dataTable, element);\n",
              "          const docLink = document.createElement('div');\n",
              "          docLink.innerHTML = docLinkHtml;\n",
              "          element.appendChild(docLink);\n",
              "        }\n",
              "      </script>\n",
              "    </div>\n",
              "  </div>\n",
              "  "
            ]
          },
          "metadata": {},
          "execution_count": 27
        }
      ]
    },
    {
      "cell_type": "code",
      "source": [
        "# manipulamos tabla\n",
        "df_1 = df.tail(12).merge(\n",
        "    df,\n",
        "    how = 'left',\n",
        "    left_on = ['year_1YA','week'],\n",
        "    right_on = ['year','week']\n",
        ").rename(\n",
        "    columns = {'year_x':'year','avg_rate_x':'avg_rate','avg_rate_y':'avg_rate_1YA'}\n",
        ").loc[:,['year','week','avg_rate','avg_rate_1YA']]"
      ],
      "metadata": {
        "id": "ugjqutsRDp4w"
      },
      "execution_count": null,
      "outputs": []
    },
    {
      "cell_type": "code",
      "source": [
        "# paso 1: gráfico vacío\n",
        "fig, ax = plt.subplots(figsize=(10,5))\n",
        "\n",
        "# paso 2: gráficos de serie temporal\n",
        "ax.plot(\n",
        "    df_1['week'],\n",
        "    df_1['avg_rate'],\n",
        "    label = 'average rate',\n",
        "    color = 'black'\n",
        ")\n",
        "\n",
        "ax.plot(\n",
        "    df_1['week'],\n",
        "    df_1['avg_rate_1YA'],\n",
        "    label = 'average rate 1YA',\n",
        "    color = 'black',\n",
        "    linestyle = '--'\n",
        ")\n",
        "\n",
        "# paso 3: configuramos título y nombres de ejes \n",
        "ax.set(\n",
        "    xlabel=\"Week Number\",\n",
        "    ylabel=\"Stock Rates ($)\",\n",
        "    title= input_ticker + \" Stock Rates\\nActuals vs. same period 1 year before\"\n",
        ")\n",
        "\n",
        "ax.legend()\n",
        "\n",
        "# exportamos\n",
        "plt.savefig(input_ticker + '/my_chart.png', dpi=100)"
      ],
      "metadata": {
        "colab": {
          "base_uri": "https://localhost:8080/",
          "height": 365
        },
        "id": "sZ19844lDp7U",
        "outputId": "cb245204-5f9a-49a5-f569-2221987d4664"
      },
      "execution_count": null,
      "outputs": [
        {
          "output_type": "display_data",
          "data": {
            "text/plain": [
              "<Figure size 720x360 with 1 Axes>"
            ],
            "image/png": "[encoded data removed]"
          },
          "metadata": {
            "needs_background": "light"
          }
        }
      ]
    },
    {
      "cell_type": "code",
      "source": [
        "# creamos un documento pdf vacío en memoria\n",
        "my_pdf = FPDF()\n",
        "\n",
        "# creamos una primer página en blanco\n",
        "my_pdf.add_page()\n",
        "\n",
        "# creamos un título\n",
        "my_pdf.set_font(family='Arial', style='B', size=16) # we specify font\n",
        "my_pdf.cell(w=0, h=10, txt=input_ticker + ' Stock Report', border = 1, align='C') # we include our first cell/container\n",
        "\n",
        "# añadimos imagen con gráfico\n",
        "image_location = input_ticker + '/my_chart.png'\n",
        "my_pdf.image(image_location, x = 5, y = 40, w = 200, h = 0, type = '')\n",
        "\n",
        "# exportamos documento\n",
        "my_pdf.output(input_ticker + '_report.pdf')"
      ],
      "metadata": {
        "colab": {
          "base_uri": "https://localhost:8080/",
          "height": 35
        },
        "id": "9CPhJ82vDp9Z",
        "outputId": "5f46cc7e-5440-4662-c804-8b4f9b178c2e"
      },
      "execution_count": null,
      "outputs": [
        {
          "output_type": "execute_result",
          "data": {
            "text/plain": [
              "''"
            ],
            "application/vnd.google.colaboratory.intrinsic+json": {
              "type": "string"
            }
          },
          "metadata": {},
          "execution_count": 31
        }
      ]
    }
  ],
  "metadata": {
    "colab": {
      "collapsed_sections": [],
      "provenance": [],
      "toc_visible": true
    },
    "kernelspec": {
      "display_name": "Python 3",
      "language": "python",
      "name": "python3"
    },
    "language_info": {
      "codemirror_mode": {
        "name": "ipython",
        "version": 3
      },
      "file_extension": ".py",
      "mimetype": "text/x-python",
      "name": "python",
      "nbconvert_exporter": "python",
      "pygments_lexer": "ipython3",
      "version": "3.8.8"
    }
  },
  "nbformat": 4,
  "nbformat_minor": 0
}